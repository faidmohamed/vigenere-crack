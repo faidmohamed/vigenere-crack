{
 "cells": [
  {
   "cell_type": "code",
   "execution_count": 1,
   "metadata": {},
   "outputs": [],
   "source": [
    "import numpy as np\n",
    "import itertools\n",
    "from collections import Counter\n",
    "from langdetect import detect\n",
    "import re"
   ]
  },
  {
   "cell_type": "code",
   "execution_count": 2,
   "metadata": {},
   "outputs": [],
   "source": [
    "ltrn = lambda l : ord(l) - ord('a')\n",
    "numl = lambda n : chr(n + ord('a'))\n",
    "rollback_n = lambda x,r : (ltrn(x) - r) % 26\n",
    "rollback_c = lambda x,r : (ltrn(x) - ltrn(r)) % 26\n",
    "ltr_diff = lambda x,y : (ord(y) - ord(x)) % 26"
   ]
  },
  {
   "cell_type": "code",
   "execution_count": 3,
   "metadata": {},
   "outputs": [],
   "source": [
    "def vigenere_decrypt(cipher, key):\n",
    "    plain = \"\"\n",
    "    k = 0\n",
    "    for c in cipher:\n",
    "        plain+=(numl(rollback_c(c, key[k])))\n",
    "        k = (k + 1) % len(key)\n",
    "    return plain\n",
    "\n",
    "def vigenere_key(cipher, plain):\n",
    "    key = \"\"\n",
    "    for i in range(len(cipher)):\n",
    "        key+=numl(ltr_diff(plain[i], cipher[i]))\n",
    "    return key"
   ]
  },
  {
   "cell_type": "code",
   "execution_count": 23,
   "metadata": {},
   "outputs": [],
   "source": [
    "vg = \"euzylleuitlvxtouwnfyoajcftzmzcftj\"\n",
    "vg_frags = [vg[i:i+6] for i in range(0, len(vg), 6)]\n",
    "question_starts = ['who', 'what', 'where', 'when', 'why', 'is', 'are', 'whom', \\\n",
    "                   'how', 'isnt', 'if', 'would', 'were', 'art', 'has', 'which', \\\n",
    "                   'had', 'will', 'can', 'could', 'have']"
   ]
  },
  {
   "cell_type": "code",
   "execution_count": 24,
   "metadata": {},
   "outputs": [],
   "source": [
    "key_frags = [vigenere_key(vg[:len(qs)], qs) for qs in question_starts]"
   ]
  },
  {
   "cell_type": "code",
   "execution_count": 25,
   "metadata": {},
   "outputs": [],
   "source": [
    "possible_key_parts = [list(itertools.product('abcdefghijklmnopqrstuvwxyz', repeat=4)),list(itertools.product('abcdefghijklmnopqrstuvwxyz', repeat=3)),\\\n",
    "                 list(itertools.product('abcdefghijklmnopqrstuvwxyz', repeat=2)),list(itertools.product('abcdefghijklmnopqrstuvwxyz', repeat=1))]"
   ]
  },
  {
   "cell_type": "code",
   "execution_count": 31,
   "metadata": {},
   "outputs": [
    {
     "data": {
      "text/plain": [
       "1059396"
      ]
     },
     "execution_count": 31,
     "metadata": {},
     "output_type": "execute_result"
    }
   ],
   "source": [
    "potential_keys = []\n",
    "for kf in key_frags:\n",
    "    potential_keys += [kf + ''.join(pkp) for pkp in possible_key_parts[len(kf)-2]]\n",
    "len(potential_keys)"
   ]
  },
  {
   "cell_type": "code",
   "execution_count": 50,
   "metadata": {},
   "outputs": [
    {
     "data": {
      "text/plain": [
       "(77722, 9186)"
      ]
     },
     "execution_count": 50,
     "metadata": {},
     "output_type": "execute_result"
    }
   ],
   "source": [
    "f = open('word_dump.txt', 'r')\n",
    "words = [w.strip() for w in f.readlines()]\n",
    "word_keys = [w for w in words if len(w) > 1 and len(w) <6]\n",
    "f.close()\n",
    "\n",
    "len(words), len(word_keys)"
   ]
  },
  {
   "cell_type": "code",
   "execution_count": 41,
   "metadata": {},
   "outputs": [],
   "source": [
    "keys = []\n",
    "for w in word_keys:\n",
    "    keys += [k for k in potential_keys if w in k]"
   ]
  },
  {
   "cell_type": "code",
   "execution_count": 42,
   "metadata": {},
   "outputs": [
    {
     "data": {
      "text/plain": [
       "1340926"
      ]
     },
     "execution_count": 42,
     "metadata": {},
     "output_type": "execute_result"
    }
   ],
   "source": [
    "len(keys)"
   ]
  },
  {
   "cell_type": "code",
   "execution_count": 44,
   "metadata": {},
   "outputs": [],
   "source": [
    "better_keys = []\n",
    "for qs in question_starts:\n",
    "    better_keys += [k for k in keys if vigenere_decrypt(vg, k).startswith(qs)]"
   ]
  },
  {
   "cell_type": "code",
   "execution_count": 47,
   "metadata": {},
   "outputs": [],
   "source": [
    "better_keys = list(set(better_keys))"
   ]
  },
  {
   "cell_type": "code",
   "execution_count": 48,
   "metadata": {},
   "outputs": [
    {
     "data": {
      "text/plain": [
       "740666"
      ]
     },
     "execution_count": 48,
     "metadata": {},
     "output_type": "execute_result"
    }
   ],
   "source": []
  },
  {
   "cell_type": "code",
   "execution_count": 49,
   "metadata": {},
   "outputs": [
    {
     "data": {
      "text/plain": [
       "9186"
      ]
     },
     "execution_count": 49,
     "metadata": {},
     "output_type": "execute_result"
    }
   ],
   "source": []
  },
  {
   "cell_type": "code",
   "execution_count": null,
   "metadata": {},
   "outputs": [],
   "source": []
  }
 ],
 "metadata": {
  "kernelspec": {
   "display_name": "Python 3",
   "language": "python",
   "name": "python3"
  },
  "language_info": {
   "codemirror_mode": {
    "name": "ipython",
    "version": 3
   },
   "file_extension": ".py",
   "mimetype": "text/x-python",
   "name": "python",
   "nbconvert_exporter": "python",
   "pygments_lexer": "ipython3",
   "version": "3.7.3"
  }
 },
 "nbformat": 4,
 "nbformat_minor": 4
}
