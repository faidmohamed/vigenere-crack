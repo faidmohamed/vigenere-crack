{
 "cells": [
  {
   "cell_type": "code",
   "execution_count": 4,
   "metadata": {},
   "outputs": [],
   "source": [
    "import numpy as np\n",
    "import itertools\n",
    "from collections import Counter\n",
    "from langdetect import detect\n",
    "import re"
   ]
  },
  {
   "cell_type": "code",
   "execution_count": 5,
   "metadata": {},
   "outputs": [],
   "source": [
    "ltrn = lambda l : ord(l) - ord('a')\n",
    "numl = lambda n : chr(n + ord('a'))\n",
    "rollback_n = lambda x,r : (ltrn(x) - r) % 26\n",
    "rollback_c = lambda x,r : (ltrn(x) - ltrn(r)) % 26\n",
    "ltr_diff = lambda x,y : (ord(y) - ord(x)) % 26"
   ]
  },
  {
   "cell_type": "code",
   "execution_count": 6,
   "metadata": {},
   "outputs": [],
   "source": [
    "def vigenere_decrypt(cipher, key):\n",
    "    plain = \"\"\n",
    "    k = 0\n",
    "    for c in cipher:\n",
    "        plain+=(numl(rollback_c(c, key[k])))\n",
    "        k = (k + 1) % len(key)\n",
    "    return plain\n",
    "\n",
    "def vigenere_key(cipher, plain):\n",
    "    key = \"\"\n",
    "    for i in range(len(cipher)):\n",
    "        key+=numl(ltr_diff(plain[i], cipher[i]))\n",
    "    return key"
   ]
  },
  {
   "cell_type": "code",
   "execution_count": 10,
   "metadata": {},
   "outputs": [
    {
     "name": "stdout",
     "output_type": "stream",
     "text": [
      "77722 53006\n",
      "26\n",
      "159\n",
      "783\n",
      "2801\n",
      "5443\n",
      "8540\n"
     ]
    }
   ],
   "source": [
    "f = open('word_dump.txt', 'r')\n",
    "words = [w.strip() for w in f.readlines()]\n",
    "sig_words = [w for w in words if len(w) >= 3 and len(w) <  10]\n",
    "keywords = [[w for w in words if len(w) == 1],[w for w in words if len(w) == 2],[w for w in words if len(w) == 3],\\\n",
    "            [w for w in words if len(w) == 4],[w for w in words if len(w) == 5],[w for w in words if len(w) == 6]]\n",
    "word_keys = [w[0]]\n",
    "f.close()\n",
    "\n",
    "print(len(words), len(sig_words))\n",
    "for i in keywords:\n",
    "    print(len(i))"
   ]
  },
  {
   "cell_type": "code",
   "execution_count": 30,
   "metadata": {},
   "outputs": [],
   "source": [
    "vg = \"euzylleuitlvxtouwnfyoajcftzmzcftj\"\n",
    "vg_frags = [vg[i:i+6] for i in range(0, len(vg), 6)]\n",
    "question_starts = ['who', 'what', 'where', 'when', 'why', 'is', 'are', 'whom', 'how', 'isnt', 'if', 'would', 'were', 'art', 'has', 'which']"
   ]
  },
  {
   "cell_type": "code",
   "execution_count": null,
   "metadata": {},
   "outputs": [],
   "source": [
    "q_keys = []\n",
    "for qs in question_starts:\n",
    "    q_keys.append([w for w in words if w.startswith(vigenere_key(vg_frags[0][:2], qs[:2]))])"
   ]
  },
  {
   "cell_type": "code",
   "execution_count": 38,
   "metadata": {},
   "outputs": [
    {
     "data": {
      "text/plain": [
       "[['inlagation',\n",
       "  'inlaid',\n",
       "  'inland',\n",
       "  'inlay',\n",
       "  'inlayed',\n",
       "  'inlaying',\n",
       "  'inlays',\n",
       "  'inlet',\n",
       "  'inlets'],\n",
       " [],\n",
       " [],\n",
       " [],\n",
       " ['inboard',\n",
       "  'inborn',\n",
       "  'inbound',\n",
       "  'inbred',\n",
       "  'inbreed',\n",
       "  'inbreeding',\n",
       "  'inbreeds'],\n",
       " [],\n",
       " [],\n",
       " [],\n",
       " [],\n",
       " [],\n",
       " [],\n",
       " [],\n",
       " [],\n",
       " ['edgar',\n",
       "  'edge',\n",
       "  'edged',\n",
       "  'edges',\n",
       "  'edgeways',\n",
       "  'edgewise',\n",
       "  'edgier',\n",
       "  'edgiest',\n",
       "  'edgily',\n",
       "  'edginess',\n",
       "  'edging',\n",
       "  'edgings',\n",
       "  'edgy'],\n",
       " [],\n",
       " []]"
      ]
     },
     "execution_count": 38,
     "metadata": {},
     "output_type": "execute_result"
    }
   ],
   "source": [
    "q_keys"
   ]
  },
  {
   "cell_type": "code",
   "execution_count": null,
   "metadata": {},
   "outputs": [],
   "source": []
  }
 ],
 "metadata": {
  "kernelspec": {
   "display_name": "Python 3",
   "language": "python",
   "name": "python3"
  },
  "language_info": {
   "codemirror_mode": {
    "name": "ipython",
    "version": 3
   },
   "file_extension": ".py",
   "mimetype": "text/x-python",
   "name": "python",
   "nbconvert_exporter": "python",
   "pygments_lexer": "ipython3",
   "version": "3.7.3"
  }
 },
 "nbformat": 4,
 "nbformat_minor": 4
}
