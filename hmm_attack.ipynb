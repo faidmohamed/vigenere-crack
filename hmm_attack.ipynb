{
 "cells": [
  {
   "cell_type": "code",
   "execution_count": 69,
   "metadata": {},
   "outputs": [],
   "source": [
    "import numpy as np\n",
    "import itertools\n",
    "from collections import Counter\n",
    "from langdetect import detect\n",
    "import re"
   ]
  },
  {
   "cell_type": "code",
   "execution_count": 35,
   "metadata": {},
   "outputs": [],
   "source": [
    "fo = open('q_corpus_5500_clean.txt', 'w')\n",
    "with open('q_corpus_5500.txt', 'r') as f:\n",
    "    for l in f:\n",
    "        fo.write(l.split(' ',1)[1])"
   ]
  },
  {
   "cell_type": "code",
   "execution_count": 36,
   "metadata": {},
   "outputs": [],
   "source": [
    "from collections import Counter, deque\n",
    "from nltk.tokenize import regexp_tokenize\n",
    "import pandas as pd\n",
    "\n",
    "def grouper(iterable, length=2):\n",
    "    i = iter(iterable)\n",
    "    q = deque(map(next, [i] * length))\n",
    "    while True:\n",
    "        yield tuple(q)\n",
    "        try:\n",
    "            q.append(next(i))\n",
    "            q.popleft()\n",
    "        except StopIteration:\n",
    "            break\n",
    "\n",
    "def tokenize(text):\n",
    "    return [word.lower() for word in regexp_tokenize(text, r'\\w+')]\n",
    "\n",
    "def follow_probability(word1, word2, vec):\n",
    "    subvec = vec.loc[word1]\n",
    "    try:\n",
    "        ct = subvec.loc[word2]\n",
    "    except:\n",
    "        ct = 0\n",
    "    return float(ct) / (subvec.sum() or 1)\n",
    "\n",
    "with open('q_corpus_5500_clean.txt', 'r') as f:\n",
    "    text = f.read()\n",
    "tokens = tokenize(text)\n",
    "markov = list(grouper(tokens))\n",
    "vec = pd.Series(Counter(markov))"
   ]
  },
  {
   "cell_type": "code",
   "execution_count": 90,
   "metadata": {},
   "outputs": [
    {
     "data": {
      "text/plain": [
       "0.0"
      ]
     },
     "execution_count": 90,
     "metadata": {},
     "output_type": "execute_result"
    }
   ],
   "source": [
    "follow_probability('are', 'any', vec)"
   ]
  },
  {
   "cell_type": "code",
   "execution_count": 104,
   "metadata": {},
   "outputs": [
    {
     "data": {
      "text/plain": [
       "(77722, 76754)"
      ]
     },
     "execution_count": 104,
     "metadata": {},
     "output_type": "execute_result"
    }
   ],
   "source": [
    "f = open('word_dump.txt', 'r')\n",
    "words = [w.strip() for w in f.readlines()]\n",
    "word_keys = [w for w in words if len(w) > 3]\n",
    "f.close()"
   ]
  },
  {
   "cell_type": "code",
   "execution_count": null,
   "metadata": {},
   "outputs": [],
   "source": [
    "question_starts = ['who', 'what', 'where', 'when', 'why', 'is', 'are', 'whom', \\\n",
    "                   'how', 'if', 'would', 'were', 'art', 'has', 'which', \\\n",
    "                   'had', 'will', 'can', 'could', 'have']\n",
    "follow_words = []\n",
    "for qs in question_starts:\n",
    "    print(qs)\n",
    "    follow_words.append([w for w in word_keys if follow_probability(qs, w, vec) > 0])"
   ]
  },
  {
   "cell_type": "code",
   "execution_count": 70,
   "metadata": {},
   "outputs": [],
   "source": [
    "def vigenere_decrypt(cipher, key):\n",
    "    plain = \"\"\n",
    "    k = 0\n",
    "    for c in cipher:\n",
    "        plain+=(numl(rollback_c(c, key[k])))\n",
    "        k = (k + 1) % len(key)\n",
    "    return plain\n",
    "\n",
    "def vigenere_key(cipher, plain):\n",
    "    key = \"\"\n",
    "    for i in range(len(cipher)):\n",
    "        key+=numl(ltr_diff(plain[i], cipher[i]))\n",
    "    return key"
   ]
  },
  {
   "cell_type": "code",
   "execution_count": 71,
   "metadata": {},
   "outputs": [],
   "source": [
    "ltrn = lambda l : ord(l) - ord('a')\n",
    "numl = lambda n : chr(n + ord('a'))\n",
    "rollback_n = lambda x,r : (ltrn(x) - r) % 26\n",
    "rollback_c = lambda x,r : (ltrn(x) - ltrn(r)) % 26\n",
    "ltr_diff = lambda x,y : (ord(y) - ord(x)) % 26"
   ]
  },
  {
   "cell_type": "code",
   "execution_count": 72,
   "metadata": {},
   "outputs": [],
   "source": [
    "follow_frags = []\n",
    "for i in range(len(question_starts)):\n",
    "    follow_frags.append(list(set([fw[:6 - len(question_starts[0])] for fw in follow_words[i]])))"
   ]
  },
  {
   "cell_type": "code",
   "execution_count": 82,
   "metadata": {},
   "outputs": [],
   "source": [
    "plain_frags = []\n",
    "for i in range(len(question_starts)):\n",
    "    plain_frags.append([question_starts[i] + ff for ff in follow_frags[i] if len(question_starts[i]+ff) == 6])\n",
    "    "
   ]
  },
  {
   "cell_type": "code",
   "execution_count": 94,
   "metadata": {},
   "outputs": [],
   "source": [
    "vg = \"euzylleuitlvxtouwnfyoajcftzmzcftj\"\n",
    "possible_plains = []\n",
    "for i in range(len(question_starts)):\n",
    "    possible_plains+=([vigenere_decrypt(vg, vigenere_key(vg[:6],pf)) for pf in plain_frags[i]])"
   ]
  },
  {
   "cell_type": "code",
   "execution_count": 105,
   "metadata": {},
   "outputs": [],
   "source": [
    "better_plains  = []\n",
    "for w in word_keys:\n",
    "    better_plains+=[p for p in possible_plains if p.endswith(w)]"
   ]
  },
  {
   "cell_type": "code",
   "execution_count": 106,
   "metadata": {},
   "outputs": [
    {
     "data": {
      "text/plain": [
       "['howyouhoftoeanluzwislamlinwmcling',\n",
       " 'howlouhofgoeanlhzwislnmlinwzcling',\n",
       " 'howwouhofroeanlszwislymlinwkcling',\n",
       " 'howcomhofxowanlyzoislemdinwqcding',\n",
       " 'howofthofjfdanlkqvislqdkinwctking',\n",
       " 'howhothofcodanldzvisljmkinwvcking',\n",
       " 'howmuchofhumanlifeislostinwaiting',\n",
       " 'howeffhofzfpanlaqhislgdwinwstwing']"
      ]
     },
     "execution_count": 106,
     "metadata": {},
     "output_type": "execute_result"
    }
   ],
   "source": [
    "better_plains"
   ]
  },
  {
   "cell_type": "code",
   "execution_count": 108,
   "metadata": {},
   "outputs": [
    {
     "data": {
      "text/plain": [
       "'duxojr'"
      ]
     },
     "execution_count": 108,
     "metadata": {},
     "output_type": "execute_result"
    }
   ],
   "source": [
    "vigenere_key('howmuc', vg[:6])"
   ]
  },
  {
   "cell_type": "code",
   "execution_count": null,
   "metadata": {},
   "outputs": [],
   "source": []
  }
 ],
 "metadata": {
  "kernelspec": {
   "display_name": "Python 3",
   "language": "python",
   "name": "python3"
  },
  "language_info": {
   "codemirror_mode": {
    "name": "ipython",
    "version": 3
   },
   "file_extension": ".py",
   "mimetype": "text/x-python",
   "name": "python",
   "nbconvert_exporter": "python",
   "pygments_lexer": "ipython3",
   "version": "3.7.3"
  }
 },
 "nbformat": 4,
 "nbformat_minor": 4
}
