{
 "cells": [
  {
   "cell_type": "code",
   "execution_count": 6,
   "metadata": {},
   "outputs": [],
   "source": [
    "import numpy as np\n",
    "import itertools\n",
    "from collections import Counter\n",
    "from langdetect import detect\n",
    "import re"
   ]
  },
  {
   "cell_type": "code",
   "execution_count": 7,
   "metadata": {},
   "outputs": [],
   "source": [
    "ltrn = lambda l : ord(l) - ord('a')\n",
    "numl = lambda n : chr(n + ord('a'))\n",
    "rollback_n = lambda x,r : (ltrn(x) - r) % 26\n",
    "rollback_c = lambda x,r : (ltrn(x) - ltrn(r)) % 26\n",
    "ltr_diff = lambda x,y : (ord(y) - ord(x)) % 26"
   ]
  },
  {
   "cell_type": "code",
   "execution_count": 8,
   "metadata": {},
   "outputs": [],
   "source": [
    "def vigenere_decrypt(cipher, key):\n",
    "    plain = \"\"\n",
    "    k = 0\n",
    "    for c in cipher:\n",
    "        plain+=(numl(rollback_c(c, key[k])))\n",
    "        k = (k + 1) % len(key)\n",
    "    return plain\n",
    "\n",
    "def vigenere_key(cipher, plain):\n",
    "    key = \"\"\n",
    "    for i in range(len(cipher)):\n",
    "        key+=numl(ltr_diff(plain[i], cipher[i]))\n",
    "    return key"
   ]
  },
  {
   "cell_type": "code",
   "execution_count": null,
   "metadata": {},
   "outputs": [],
   "source": [
    "possible_keys = [list(itertools.product('abcdefghijklmnopqrstuvwxyz', repeat=4)),list(itertools.product('abcdefghijklmnopqrstuvwxyz', repeat=3)),\\\n",
    "                 list(itertools.product('abcdefghijklmnopqrstuvwxyz', repeat=2)),list(itertools.product('abcdefghijklmnopqrstuvwxyz', repeat=1))]"
   ]
  },
  {
   "cell_type": "code",
   "execution_count": null,
   "metadata": {},
   "outputs": [],
   "source": [
    "brute_force_keys = list(itertools.product('abcdefghijklmnopqrstuvwxyz', repeat=6))"
   ]
  },
  {
   "cell_type": "code",
   "execution_count": null,
   "metadata": {},
   "outputs": [],
   "source": [
    "f_w = open(\"brute_force_dump.txt\", \"w\")\n",
    "for bfk in brute_force_keys:\n",
    "    bfvd = vigenere_decrypt(bfk, vg)\n",
    "    f_w.write(bfvd + \"\\n\")\n",
    "f_w.close()"
   ]
  },
  {
   "cell_type": "code",
   "execution_count": null,
   "metadata": {},
   "outputs": [],
   "source": [
    "f_2 = open(\"less_brute_dump.txt\", 'w')\n",
    "question_starts = ['who', 'what', 'where', 'when', 'why', 'is', 'are', 'whom', 'how', 'isnt', 'if', 'would', 'were', 'art', 'has', 'which']\n",
    "for qs in question_starts:\n",
    "    key_frag = vigenere_key(vg[:len(qs)], qs)\n",
    "    for pk in possible_keys[len(key_frag) - 2]:\n",
    "        fk = key_frag + ''.join(pk)\n",
    "        vd = vigenere_decrypt(vg, fk)\n",
    "        f_2.write(vd + \"\\n\")\n",
    "#         for sw in sig_words:\n",
    "#             if len(vd_) == 0:\n",
    "#                 print(vd)\n",
    "#             if vd_.startswith(sw):\n",
    "#                 vd_.replace(sw, \"\")\n",
    "f_2.close"
   ]
  },
  {
   "cell_type": "code",
   "execution_count": 4,
   "metadata": {},
   "outputs": [],
   "source": [
    "vg = \"euzylleuitlvxtouwnfyoajcftzmzcftj\"\n",
    "vg_frags = [vg[i:i+6] for i in range(0, len(vg), 6)]"
   ]
  },
  {
   "cell_type": "code",
   "execution_count": null,
   "metadata": {},
   "outputs": [],
   "source": [
    "possible_keys = list(itertools.product('abcdefghijklmnopqrstuvwxyz', repeat=4))"
   ]
  },
  {
   "cell_type": "code",
   "execution_count": null,
   "metadata": {},
   "outputs": [],
   "source": [
    "f = open('word_dump.txt', 'r')\n",
    "words = [w.strip() for w in f.readlines()]\n",
    "sig_words = [w for w in words if len(w) >= 3 and len(w) <  10]\n",
    "word_keys = [w for w in words if len(w) == 6]\n",
    "f.close()\n",
    "\n",
    "len(words), len(sig_words), len(word_keys)"
   ]
  },
  {
   "cell_type": "code",
   "execution_count": null,
   "metadata": {},
   "outputs": [],
   "source": [
    "for c in vg_frags[0]:\n",
    "    "
   ]
  },
  {
   "cell_type": "code",
   "execution_count": null,
   "metadata": {},
   "outputs": [],
   "source": [
    "question_starts = ['who', 'what', 'where', 'when', 'why', 'is', 'are', 'whom', 'how', 'isnt', 'if', 'would', 'were', 'art', 'has', 'which']\n",
    "\n",
    "for i in possible_keys:\n",
    "    fk = 'inv' + ''.join(i)\n",
    "    vd = vigenere_decrypt(vg, fk)\n",
    "    for q in question_starts:\n",
    "        if vd.startswith(q):\n",
    "            print(vd)"
   ]
  },
  {
   "cell_type": "code",
   "execution_count": null,
   "metadata": {},
   "outputs": [],
   "source": [
    "vigenere_decrypt(vg, \"unveil\")"
   ]
  },
  {
   "cell_type": "code",
   "execution_count": null,
   "metadata": {},
   "outputs": [],
   "source": [
    "pattern = re.compile('edv.{3}')\n",
    "for wk in word_keys:\n",
    "    if re.match(pattern, wk):\n",
    "        vd = vigenere_decrypt(vg, wk)\n",
    "        print(wk)\n",
    "        print(vd)\n",
    "    "
   ]
  },
  {
   "cell_type": "code",
   "execution_count": null,
   "metadata": {},
   "outputs": [],
   "source": [
    "letterFrequency = {'e' : 12.0,\n",
    "'t' : 9.10,\n",
    "'a' : 8.12,\n",
    "'o' : 7.68,\n",
    "'i' : 7.31,\n",
    "'n' : 6.95,\n",
    "'s' : 6.28,\n",
    "'r' : 6.02,\n",
    "'h' : 5.92,\n",
    "'d' : 4.32,\n",
    "'l' : 3.98,\n",
    "'u' : 2.88,\n",
    "'c' : 2.71,\n",
    "'m' : 2.61,\n",
    "'f' : 2.30,\n",
    "'y' : 2.11,\n",
    "'w' : 2.09,\n",
    "'g' : 2.03,\n",
    "'p' : 1.82,\n",
    "'b' : 1.49,\n",
    "'v' : 1.11,\n",
    "'k' : 0.69,\n",
    "'x' : 0.17,\n",
    "'q' : 0.11,\n",
    "'j' : 0.10,\n",
    "'z' : 0.07 }\n",
    "\n",
    "all_freq = {} \n",
    "  \n",
    "for i in vg: \n",
    "    if i in all_freq: \n",
    "        all_freq[i] += 1\n",
    "    else: \n",
    "        all_freq[i] = 1\n",
    "for i in all_freq:\n",
    "    all_freq[i] /= len(vg)"
   ]
  },
  {
   "cell_type": "code",
   "execution_count": null,
   "metadata": {},
   "outputs": [],
   "source": [
    "ltr_cols = [[],[],[],[],[],[]]\n",
    "counter = 0\n",
    "for frag in vg_frags:\n",
    "    for c in frag:\n",
    "        if c not in ltr_cols[counter]:\n",
    "            ltr_cols[counter].append(c)\n",
    "        counter = (counter + 1) % 6    "
   ]
  },
  {
   "cell_type": "code",
   "execution_count": null,
   "metadata": {},
   "outputs": [],
   "source": [
    "key_nums = []\n",
    "for col in ltr_cols:\n",
    "    max_score = 0\n",
    "    index = 0\n",
    "    for i in range(len(col)):\n",
    "        score = 0\n",
    "        for c in range(len(col)): \n",
    "            score += all_freq[col[(c+i)%len(col)]]*letterFrequency[col[(c)]]\n",
    "        if score > max_score:\n",
    "            max_score = score\n",
    "            index = i\n",
    "    print(index, max_score)\n",
    "    "
   ]
  },
  {
   "cell_type": "code",
   "execution_count": null,
   "metadata": {},
   "outputs": [],
   "source": [
    "question_starts = ['who', 'what', 'where', 'when', 'why', 'is', 'are', 'whom', 'how', 'isnt', 'if', 'would', 'were', 'art', 'has']\n",
    "fo = open(\"clean_dump.txt\", 'w')\n",
    "with open('less_brute_dump.txt', 'r') as fi:\n",
    "    for line in fi:\n",
    "        l = line.strip()\n",
    "        for qs in question_starts:\n",
    "            if l.startswith(qs):\n",
    "                l_ = l.replace(qs, \"\")\n",
    "        for w in sig_words:\n",
    "            if l_.startswith(w):\n",
    "                fo.write(l + \"\\n\")\n",
    "fo.close()"
   ]
  },
  {
   "cell_type": "code",
   "execution_count": null,
   "metadata": {},
   "outputs": [],
   "source": [
    "fo2 = open(\"cleaner_dump.txt\", 'w')\n",
    "with open('clean_dump.txt', 'r') as fi:\n",
    "    for line in fi:\n",
    "        l = line.strip()\n",
    "        for w in sig_words:\n",
    "            if l.endswith(w):\n",
    "                fo.write(l+'\\n')\n",
    "fo.close()"
   ]
  },
  {
   "cell_type": "code",
   "execution_count": 24,
   "metadata": {},
   "outputs": [
    {
     "data": {
      "text/plain": [
       "'wchujr'"
      ]
     },
     "execution_count": 24,
     "metadata": {},
     "output_type": "execute_result"
    }
   ],
   "source": [
    "vigenere_key(vg[:6],'issecu')"
   ]
  },
  {
   "cell_type": "code",
   "execution_count": 14,
   "metadata": {},
   "outputs": [
    {
     "data": {
      "text/plain": [
       "(77722, 783)"
      ]
     },
     "execution_count": 14,
     "metadata": {},
     "output_type": "execute_result"
    }
   ],
   "source": [
    "f = open('word_dump.txt', 'r')\n",
    "words = [w.strip() for w in f.readlines()]\n",
    "word_keys = [w for w in words if len(w) == 3]\n",
    "f.close()\n",
    "\n",
    "len(words), len(word_keys)"
   ]
  },
  {
   "cell_type": "code",
   "execution_count": null,
   "metadata": {},
   "outputs": [],
   "source": [
    "kk = list(itertools.product('abcdefghijklmnopqrstuvwxyz', repeat=3))\n",
    "for i in kk:\n",
    "    print(vigenere_decrypt(vg, 'xgd' + ''.join(i)))"
   ]
  },
  {
   "cell_type": "code",
   "execution_count": 19,
   "metadata": {},
   "outputs": [
    {
     "name": "stdout",
     "output_type": "stream",
     "text": [
      "inward\n",
      "inwardly\n",
      "inwardness\n",
      "inwards\n"
     ]
    }
   ],
   "source": [
    "for i in words:\n",
    "    if i.startswith('inw'):\n",
    "        print(i)"
   ]
  },
  {
   "cell_type": "code",
   "execution_count": null,
   "metadata": {},
   "outputs": [],
   "source": []
  }
 ],
 "metadata": {
  "kernelspec": {
   "display_name": "Python 3",
   "language": "python",
   "name": "python3"
  },
  "language_info": {
   "codemirror_mode": {
    "name": "ipython",
    "version": 3
   },
   "file_extension": ".py",
   "mimetype": "text/x-python",
   "name": "python",
   "nbconvert_exporter": "python",
   "pygments_lexer": "ipython3",
   "version": "3.7.3"
  }
 },
 "nbformat": 4,
 "nbformat_minor": 4
}
